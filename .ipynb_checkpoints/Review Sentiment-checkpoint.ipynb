{
 "cells": [
  {
   "cell_type": "code",
   "execution_count": 38,
   "metadata": {},
   "outputs": [
    {
     "data": {
      "text/html": [
       "<div>\n",
       "<style scoped>\n",
       "    .dataframe tbody tr th:only-of-type {\n",
       "        vertical-align: middle;\n",
       "    }\n",
       "\n",
       "    .dataframe tbody tr th {\n",
       "        vertical-align: top;\n",
       "    }\n",
       "\n",
       "    .dataframe thead th {\n",
       "        text-align: right;\n",
       "    }\n",
       "</style>\n",
       "<table border=\"1\" class=\"dataframe\">\n",
       "  <thead>\n",
       "    <tr style=\"text-align: right;\">\n",
       "      <th></th>\n",
       "      <th>listing_id</th>\n",
       "      <th>id</th>\n",
       "      <th>date</th>\n",
       "      <th>reviewer_id</th>\n",
       "      <th>reviewer_name</th>\n",
       "      <th>comments</th>\n",
       "    </tr>\n",
       "  </thead>\n",
       "  <tbody>\n",
       "    <tr>\n",
       "      <th>0</th>\n",
       "      <td>38585</td>\n",
       "      <td>129120</td>\n",
       "      <td>2010-10-28</td>\n",
       "      <td>55877</td>\n",
       "      <td>Ritchie</td>\n",
       "      <td>Evelyne is an accommodating host who lives in ...</td>\n",
       "    </tr>\n",
       "    <tr>\n",
       "      <th>1</th>\n",
       "      <td>38585</td>\n",
       "      <td>147273</td>\n",
       "      <td>2010-11-30</td>\n",
       "      <td>279973</td>\n",
       "      <td>Cathy</td>\n",
       "      <td>Evelyne was very welcoming to her home; my fri...</td>\n",
       "    </tr>\n",
       "    <tr>\n",
       "      <th>2</th>\n",
       "      <td>38585</td>\n",
       "      <td>198797</td>\n",
       "      <td>2011-03-14</td>\n",
       "      <td>411638</td>\n",
       "      <td>NaN</td>\n",
       "      <td>I really enjoyed Evelyne's welcoming and bubbl...</td>\n",
       "    </tr>\n",
       "    <tr>\n",
       "      <th>3</th>\n",
       "      <td>38585</td>\n",
       "      <td>201932</td>\n",
       "      <td>2011-03-17</td>\n",
       "      <td>441855</td>\n",
       "      <td>Bill</td>\n",
       "      <td>Very gracious host and was helpful in all aspe...</td>\n",
       "    </tr>\n",
       "    <tr>\n",
       "      <th>4</th>\n",
       "      <td>38585</td>\n",
       "      <td>341616</td>\n",
       "      <td>2011-06-28</td>\n",
       "      <td>657560</td>\n",
       "      <td>Joakim</td>\n",
       "      <td>Evelyn was very friendly and easy to comunicat...</td>\n",
       "    </tr>\n",
       "  </tbody>\n",
       "</table>\n",
       "</div>"
      ],
      "text/plain": [
       "   listing_id      id        date  reviewer_id reviewer_name  \\\n",
       "0       38585  129120  2010-10-28        55877       Ritchie   \n",
       "1       38585  147273  2010-11-30       279973         Cathy   \n",
       "2       38585  198797  2011-03-14       411638           NaN   \n",
       "3       38585  201932  2011-03-17       441855          Bill   \n",
       "4       38585  341616  2011-06-28       657560        Joakim   \n",
       "\n",
       "                                            comments  \n",
       "0  Evelyne is an accommodating host who lives in ...  \n",
       "1  Evelyne was very welcoming to her home; my fri...  \n",
       "2  I really enjoyed Evelyne's welcoming and bubbl...  \n",
       "3  Very gracious host and was helpful in all aspe...  \n",
       "4  Evelyn was very friendly and easy to comunicat...  "
      ]
     },
     "execution_count": 38,
     "metadata": {},
     "output_type": "execute_result"
    }
   ],
   "source": [
    "import pandas as pd\n",
    "%matplotlib notebook\n",
    "%matplotlib inline\n",
    "# Dependencies and Setup\n",
    "import matplotlib.pyplot as plt\n",
    "from textblob import TextBlob\n",
    "\n",
    "filename = \"data/reviews_full.csv\"\n",
    "reviews_df = pd.read_csv(filename)\n",
    "reviews_df.head()"
   ]
  },
  {
   "cell_type": "code",
   "execution_count": 39,
   "metadata": {},
   "outputs": [],
   "source": [
    "def get_sentiment(review):\n",
    "    blob = TextBlob(review)\n",
    "    sentence_sentiments = [sentence.sentiment.polarity for sentence in blob.sentences]\n",
    "    sentiments_no_neutral = [sentiment for sentiment in sentence_sentiments if sentiment]\n",
    "    return sum(sentiments_no_neutral);"
   ]
  },
  {
   "cell_type": "code",
   "execution_count": 41,
   "metadata": {},
   "outputs": [],
   "source": [
    "reviews_df = reviews_df[reviews_df[\"comments\"].map(type) == str]"
   ]
  },
  {
   "cell_type": "code",
   "execution_count": null,
   "metadata": {},
   "outputs": [],
   "source": [
    "reviews_df[\"sentiments\"] = reviews_df[reviews_df[\"comments\"].map(get_sentiment)]\n"
   ]
  },
  {
   "cell_type": "code",
   "execution_count": null,
   "metadata": {},
   "outputs": [],
   "source": [
    "reviews_df.head()"
   ]
  }
 ],
 "metadata": {
  "kernelspec": {
   "display_name": "Python 3",
   "language": "python",
   "name": "python3"
  },
  "language_info": {
   "codemirror_mode": {
    "name": "ipython",
    "version": 3
   },
   "file_extension": ".py",
   "mimetype": "text/x-python",
   "name": "python",
   "nbconvert_exporter": "python",
   "pygments_lexer": "ipython3",
   "version": "3.7.3"
  }
 },
 "nbformat": 4,
 "nbformat_minor": 2
}
